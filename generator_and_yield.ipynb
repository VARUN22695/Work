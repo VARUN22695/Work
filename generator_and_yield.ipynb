{
  "nbformat": 4,
  "nbformat_minor": 0,
  "metadata": {
    "colab": {
      "provenance": []
    },
    "kernelspec": {
      "name": "python3",
      "display_name": "Python 3"
    },
    "language_info": {
      "name": "python"
    }
  },
  "cells": [
    {
      "cell_type": "code",
      "execution_count": 1,
      "metadata": {
        "colab": {
          "base_uri": "https://localhost:8080/"
        },
        "id": "mD3_a5lVJYCu",
        "outputId": "8cf14279-5178-4614-e9d9-fc6e3d9f31a4"
      },
      "outputs": [
        {
          "output_type": "stream",
          "name": "stdout",
          "text": [
            "5\n",
            "4\n",
            "3\n",
            "2\n",
            "1\n"
          ]
        }
      ],
      "source": [
        "def countdown(n):\n",
        "    while n > 0:\n",
        "        yield n\n",
        "        n -= 1\n",
        "\n",
        "# Creating a generator object\n",
        "gen = countdown(5)\n",
        "\n",
        "# Iterating over the generator\n",
        "for value in gen:\n",
        "    print(value)\n"
      ]
    },
    {
      "cell_type": "code",
      "source": [
        "def seq(n):\n",
        "  while n>0:\n",
        "    yield n\n",
        "    n-=1"
      ],
      "metadata": {
        "id": "Kzft9kn0KQmB"
      },
      "execution_count": 23,
      "outputs": []
    },
    {
      "cell_type": "code",
      "source": [
        "k=seq(10)"
      ],
      "metadata": {
        "id": "5n3Zcdb2KfHN"
      },
      "execution_count": 24,
      "outputs": []
    },
    {
      "cell_type": "code",
      "source": [
        "k"
      ],
      "metadata": {
        "colab": {
          "base_uri": "https://localhost:8080/"
        },
        "id": "-_0QguFRKjo7",
        "outputId": "35fa0a5a-b0f7-4317-aa49-4eb3c5dac248"
      },
      "execution_count": 25,
      "outputs": [
        {
          "output_type": "execute_result",
          "data": {
            "text/plain": [
              "<generator object seq at 0x7e685d86e500>"
            ]
          },
          "metadata": {},
          "execution_count": 25
        }
      ]
    },
    {
      "cell_type": "code",
      "source": [
        "for i in k:\n",
        "  print(i)"
      ],
      "metadata": {
        "colab": {
          "base_uri": "https://localhost:8080/"
        },
        "id": "-PJkLFyKKuKC",
        "outputId": "c63b16ea-8f20-4c8b-f9e5-01d1ce39fe54"
      },
      "execution_count": 26,
      "outputs": [
        {
          "output_type": "stream",
          "name": "stdout",
          "text": [
            "10\n",
            "9\n",
            "8\n",
            "7\n",
            "6\n",
            "5\n",
            "4\n",
            "3\n",
            "2\n",
            "1\n"
          ]
        }
      ]
    },
    {
      "cell_type": "code",
      "source": [],
      "metadata": {
        "id": "VmYXqyPoLAjv"
      },
      "execution_count": null,
      "outputs": []
    }
  ]
}