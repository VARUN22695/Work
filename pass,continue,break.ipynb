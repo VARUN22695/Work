{
  "nbformat": 4,
  "nbformat_minor": 0,
  "metadata": {
    "colab": {
      "provenance": []
    },
    "kernelspec": {
      "name": "python3",
      "display_name": "Python 3"
    },
    "language_info": {
      "name": "python"
    }
  },
  "cells": [
    {
      "cell_type": "markdown",
      "source": [
        "##PASS,CONTINUE,BREAK"
      ],
      "metadata": {
        "id": "7-DdvKSZOZsI"
      }
    },
    {
      "cell_type": "code",
      "source": [
        "l=[1,2,3,4,5,6]"
      ],
      "metadata": {
        "id": "m3NqQETzOlVr"
      },
      "execution_count": 2,
      "outputs": []
    },
    {
      "cell_type": "code",
      "source": [
        "print(l)\n",
        "for i in l:\n",
        "  if i%2==0:\n",
        "    print(i)\n",
        "    pass\n",
        "    print(i**2)"
      ],
      "metadata": {
        "colab": {
          "base_uri": "https://localhost:8080/"
        },
        "id": "-yNwqlM6OeTF",
        "outputId": "54120e16-0c15-4d87-82ad-7406a01bcbf6"
      },
      "execution_count": 3,
      "outputs": [
        {
          "output_type": "stream",
          "name": "stdout",
          "text": [
            "[1, 2, 3, 4, 5, 6]\n",
            "2\n",
            "4\n",
            "4\n",
            "16\n",
            "6\n",
            "36\n"
          ]
        }
      ]
    },
    {
      "cell_type": "code",
      "source": [
        "print(l)\n",
        "for i in l:\n",
        "  if i%2==0:\n",
        "    print(i)\n",
        "    pass\n",
        "    print(i**2)"
      ],
      "metadata": {
        "colab": {
          "base_uri": "https://localhost:8080/"
        },
        "id": "q9RSNd6EOhEd",
        "outputId": "d225876d-0aa5-476e-f6af-0d3c5d88d43d"
      },
      "execution_count": 4,
      "outputs": [
        {
          "output_type": "stream",
          "name": "stdout",
          "text": [
            "[1, 2, 3, 4, 5, 6]\n",
            "2\n",
            "4\n",
            "4\n",
            "16\n",
            "6\n",
            "36\n"
          ]
        }
      ]
    },
    {
      "cell_type": "code",
      "source": [
        "print(l)\n",
        "for i in l:\n",
        "  if i%2==0:\n",
        "    print(i)\n",
        "    pass\n",
        "    print(i**2)"
      ],
      "metadata": {
        "colab": {
          "base_uri": "https://localhost:8080/"
        },
        "id": "sgetvyv-OhP4",
        "outputId": "91bb8e1d-e06f-4a45-f1e1-fadbb7030d69"
      },
      "execution_count": 5,
      "outputs": [
        {
          "output_type": "stream",
          "name": "stdout",
          "text": [
            "[1, 2, 3, 4, 5, 6]\n",
            "2\n",
            "4\n",
            "4\n",
            "16\n",
            "6\n",
            "36\n"
          ]
        }
      ]
    }
  ]
}